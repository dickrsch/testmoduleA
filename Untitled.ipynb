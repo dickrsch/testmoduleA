{
 "cells": [
  {
   "cell_type": "code",
   "execution_count": 100,
   "metadata": {
    "collapsed": true
   },
   "outputs": [],
   "source": [
    "import requests,json"
   ]
  },
  {
   "cell_type": "code",
   "execution_count": 101,
   "metadata": {
    "collapsed": true
   },
   "outputs": [],
   "source": [
    "url = 'https://api.github.com/users/dickrsch/repos'"
   ]
  },
  {
   "cell_type": "code",
   "execution_count": 102,
   "metadata": {
    "collapsed": false
   },
   "outputs": [],
   "source": [
    "r = requests.get(url)"
   ]
  },
  {
   "cell_type": "code",
   "execution_count": 103,
   "metadata": {
    "collapsed": false
   },
   "outputs": [
    {
     "data": {
      "text/plain": [
       "200"
      ]
     },
     "execution_count": 103,
     "metadata": {},
     "output_type": "execute_result"
    }
   ],
   "source": [
    "r.status_code"
   ]
  },
  {
   "cell_type": "code",
   "execution_count": 104,
   "metadata": {
    "collapsed": false
   },
   "outputs": [],
   "source": [
    "json_data = json.loads(r.text)"
   ]
  },
  {
   "cell_type": "code",
   "execution_count": 105,
   "metadata": {
    "collapsed": false
   },
   "outputs": [
    {
     "data": {
      "text/plain": [
       "4"
      ]
     },
     "execution_count": 105,
     "metadata": {},
     "output_type": "execute_result"
    }
   ],
   "source": [
    "len(json_data)"
   ]
  },
  {
   "cell_type": "code",
   "execution_count": 106,
   "metadata": {
    "collapsed": false
   },
   "outputs": [
    {
     "name": "stdout",
     "output_type": "stream",
     "text": [
      "MedPhysQCmodules\n",
      "scikit-image\n",
      "testmoduleA\n",
      "WAD_Documentatie\n"
     ]
    }
   ],
   "source": [
    "for elem in json_data:\n",
    "    print (elem['name'])"
   ]
  },
  {
   "cell_type": "code",
   "execution_count": 124,
   "metadata": {
    "collapsed": true
   },
   "outputs": [],
   "source": [
    "r = requests.get('https://api.github.com/users/wadqc/repos')"
   ]
  },
  {
   "cell_type": "code",
   "execution_count": 125,
   "metadata": {
    "collapsed": false
   },
   "outputs": [],
   "source": [
    "json_data = json.loads(r.text)"
   ]
  },
  {
   "cell_type": "code",
   "execution_count": 127,
   "metadata": {
    "collapsed": false
   },
   "outputs": [
    {
     "name": "stdout",
     "output_type": "stream",
     "text": [
      "WAD_AnalysisJava\n",
      "WAD_AnalysisMatlab\n",
      "WAD_Documentatie\n",
      "WAD_Interface\n",
      "WAD_Python\n",
      "WAD_Services\n"
     ]
    }
   ],
   "source": [
    "for elem in json_data:\n",
    "    print (elem['name'])"
   ]
  },
  {
   "cell_type": "code",
   "execution_count": 135,
   "metadata": {
    "collapsed": false
   },
   "outputs": [
    {
     "name": "stdout",
     "output_type": "stream",
     "text": [
      "https://api.github.com/repos/wadqc/WAD_Python/zipball/v1.1.0\n",
      "https://api.github.com/repos/wadqc/WAD_Python/zipball/v1.0.0\n"
     ]
    }
   ],
   "source": [
    "r = requests.get('https://api.github.com/repos/wadqc/WAD_Python/releases')\n",
    "json_data = json.loads(r.text)\n",
    "\n",
    "for elem in json_data:\n",
    "    print (elem['zipball_url'])"
   ]
  },
  {
   "cell_type": "code",
   "execution_count": 136,
   "metadata": {
    "collapsed": true
   },
   "outputs": [],
   "source": [
    "import tempfile\n",
    "import shutil\n",
    "\n",
    "dirpath = tempfile.mkdtemp()"
   ]
  },
  {
   "cell_type": "code",
   "execution_count": 137,
   "metadata": {
    "collapsed": false
   },
   "outputs": [
    {
     "name": "stdout",
     "output_type": "stream",
     "text": [
      "/tmp/tmp3v267u34\n"
     ]
    }
   ],
   "source": [
    "print (dirpath)"
   ]
  },
  {
   "cell_type": "code",
   "execution_count": 138,
   "metadata": {
    "collapsed": true
   },
   "outputs": [],
   "source": [
    "import requests, zipfile, io\n",
    "\n",
    "zip_file_url = 'https://api.github.com/repos/wadqc/WAD_Python/zipball/v1.1.0'\n",
    "r = requests.get(zip_file_url)\n",
    "z = zipfile.ZipFile(io.BytesIO(r.content))\n",
    "z.extractall(dirpath)"
   ]
  },
  {
   "cell_type": "code",
   "execution_count": 140,
   "metadata": {
    "collapsed": false
   },
   "outputs": [
    {
     "data": {
      "text/plain": [
       "['wadqc-WAD_Python-a91119b']"
      ]
     },
     "execution_count": 140,
     "metadata": {},
     "output_type": "execute_result"
    }
   ],
   "source": [
    "import os\n",
    "os.listdir(dirpath)"
   ]
  },
  {
   "cell_type": "code",
   "execution_count": 77,
   "metadata": {
    "collapsed": false
   },
   "outputs": [],
   "source": [
    "import psycopg2"
   ]
  },
  {
   "cell_type": "code",
   "execution_count": 92,
   "metadata": {
    "collapsed": false
   },
   "outputs": [],
   "source": [
    "conn = psycopg2.connect(host=\"localhost\", dbname=\"wadqc_db\",user=\"wadqc\",password=\"waddemo\")"
   ]
  },
  {
   "cell_type": "code",
   "execution_count": 93,
   "metadata": {
    "collapsed": true
   },
   "outputs": [],
   "source": [
    "curr = conn.cursor()"
   ]
  },
  {
   "cell_type": "code",
   "execution_count": 94,
   "metadata": {
    "collapsed": true
   },
   "outputs": [],
   "source": [
    "sql = 'SELECT * FROM dbmodules'"
   ]
  },
  {
   "cell_type": "code",
   "execution_count": 95,
   "metadata": {
    "collapsed": true
   },
   "outputs": [],
   "source": [
    "curr.execute(sql)"
   ]
  },
  {
   "cell_type": "code",
   "execution_count": 96,
   "metadata": {
    "collapsed": false
   },
   "outputs": [],
   "source": [
    "inmodules = curr.fetchall()"
   ]
  },
  {
   "cell_type": "code",
   "execution_count": 97,
   "metadata": {
    "collapsed": false
   },
   "outputs": [
    {
     "name": "stdout",
     "output_type": "stream",
     "text": [
      "[(1, 'RF_Pehamed', 'QCDDL for RF Pehamed', 'QCDDL_wadwrapper.py', 'modzdzyipda', 'factory'), (2, 'DX_Normi13', 'n13 for DX Normi13', 'n13_wadwrapper.py', 'modcapx90q3', 'factory'), (3, 'MG_Flatfield', 'QCMammo for MG Flatfield', 'QCMammo_wadwrapper.py', 'mod83gr3sei', 'factory'), (4, 'MG_CDMam', 'CDMam for MG CDMam', 'CDMam_wadwrapper.py', 'modnn7l_cac', 'factory'), (5, 'CR_Pehamed_Wellhofer', 'QCXRay for CR Pehamed_Wellhofer', 'QCXRay_wadwrapper.py', 'mod_6bhimom', 'factory'), (6, 'US_AirReverberations', 'QCUS for US AirReverberations', 'QCUS_wadwrapper.py', 'moddmp_ceuc', 'factory'), (7, 'MR_PIQT', 'QCMR for MR PIQT', 'QCMR_wadwrapper.py', 'modwdoezcoe', 'factory'), (8, 'CT_Philips_QuickIQ', 'QCCT for CT Philips_QuickIQ', 'QCCT_wadwrapper.py', 'modws7_vtkl', 'factory'), (9, 'PT Biograph daily QC', 'Biograph daily QC', 'Biographqc', 'modb8mfnl6_', 'user'), (10, 'NM_NEMA_Uniformity', 'Nema uniformity', 'QCUnif_wadwrapper.py', 'mode8i19sk5', 'user'), (11, 'OCR', 'OCR', 'ocr_dt.py', 'mod6zywqlly', 'user')]\n"
     ]
    }
   ],
   "source": [
    "print(inmodules)"
   ]
  },
  {
   "cell_type": "code",
   "execution_count": 99,
   "metadata": {
    "collapsed": false
   },
   "outputs": [
    {
     "name": "stdout",
     "output_type": "stream",
     "text": [
      "QCDDL_wadwrapper.py modzdzyipda\n",
      "n13_wadwrapper.py modcapx90q3\n",
      "QCMammo_wadwrapper.py mod83gr3sei\n",
      "CDMam_wadwrapper.py modnn7l_cac\n",
      "QCXRay_wadwrapper.py mod_6bhimom\n",
      "QCUS_wadwrapper.py moddmp_ceuc\n",
      "QCMR_wadwrapper.py modwdoezcoe\n",
      "QCCT_wadwrapper.py modws7_vtkl\n",
      "Biographqc modb8mfnl6_\n",
      "QCUnif_wadwrapper.py mode8i19sk5\n",
      "ocr_dt.py mod6zywqlly\n"
     ]
    }
   ],
   "source": [
    "for elem in inmodules:\n",
    "    print(elem[3],elem[4])"
   ]
  },
  {
   "cell_type": "code",
   "execution_count": null,
   "metadata": {
    "collapsed": true
   },
   "outputs": [],
   "source": []
  }
 ],
 "metadata": {
  "kernelspec": {
   "display_name": "Python 3",
   "language": "python",
   "name": "python3"
  },
  "language_info": {
   "codemirror_mode": {
    "name": "ipython",
    "version": 3
   },
   "file_extension": ".py",
   "mimetype": "text/x-python",
   "name": "python",
   "nbconvert_exporter": "python",
   "pygments_lexer": "ipython3",
   "version": "3.4.3"
  }
 },
 "nbformat": 4,
 "nbformat_minor": 0
}
