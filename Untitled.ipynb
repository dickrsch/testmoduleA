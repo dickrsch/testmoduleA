{
 "cells": [
  {
   "cell_type": "code",
   "execution_count": 181,
   "metadata": {
    "collapsed": true
   },
   "outputs": [],
   "source": [
    "import requests,json"
   ]
  },
  {
   "cell_type": "code",
   "execution_count": 242,
   "metadata": {
    "collapsed": false
   },
   "outputs": [],
   "source": [
    "#url = 'https://api.github.com/users/wadqc/repos'\n",
    "\n",
    "#First we obtain all the repos that contain releases of analysis modules\n",
    "url = 'https://api.github.com/users/dickrsch/repos'\n",
    "\n",
    "available_modules = {}\n",
    "r = requests.get(url,headers={\"User-Agent\":\"dickrsch\"},auth=('dickrsch', 'Dd__github123!'))\n",
    "json_data = json.loads(r.text)\n",
    "\n",
    "#For each repo we obtain release data\n",
    "for elem in json_data:\n",
    "    tmprepo = (elem['name'],elem['releases_url'].replace('{/id}',''))\n",
    "    r = requests.get(tmprepo[1],headers={\"User-Agent\":\"dickrsch\"},auth=('dickrsch', 'Dd__github123!'))\n",
    "    release_data = json.loads(r.text)\n",
    "    for release in release_data:\n",
    "        try:\n",
    "            if available_modules[elem['name']]:\n",
    "                available_modules[elem['name']].append((release['tag_name'],release['published_at'],release['zipball_url']))\n",
    "        except:\n",
    "            available_modules[elem['name']] = [(release['tag_name'],release['published_at'],release['zipball_url'])]\n"
   ]
  },
  {
   "cell_type": "code",
   "execution_count": 243,
   "metadata": {
    "collapsed": false
   },
   "outputs": [
    {
     "data": {
      "text/plain": [
       "{'testmoduleA': [('v1.1.1',\n",
       "   '2017-10-04T14:16:26Z',\n",
       "   'https://api.github.com/repos/dickrsch/testmoduleA/zipball/v1.1.1'),\n",
       "  ('v1.1',\n",
       "   '2017-10-04T14:15:24Z',\n",
       "   'https://api.github.com/repos/dickrsch/testmoduleA/zipball/v1.1'),\n",
       "  ('v1.0',\n",
       "   '2017-10-03T20:21:16Z',\n",
       "   'https://api.github.com/repos/dickrsch/testmoduleA/zipball/v1.0')]}"
      ]
     },
     "execution_count": 243,
     "metadata": {},
     "output_type": "execute_result"
    }
   ],
   "source": [
    "available_modules"
   ]
  },
  {
   "cell_type": "code",
   "execution_count": 256,
   "metadata": {
    "collapsed": false
   },
   "outputs": [
    {
     "name": "stdout",
     "output_type": "stream",
     "text": [
      "testmoduleA ('v1.1.1', '2017-10-04T14:16:26Z', 'https://api.github.com/repos/dickrsch/testmoduleA/zipball/v1.1.1')\n"
     ]
    }
   ],
   "source": [
    "for key in available_modules.keys():\n",
    "    print (key,available_modules[key][0])\n"
   ]
  },
  {
   "cell_type": "code",
   "execution_count": 136,
   "metadata": {
    "collapsed": true
   },
   "outputs": [],
   "source": [
    "import tempfile\n",
    "import shutil\n",
    "\n",
    "dirpath = tempfile.mkdtemp()"
   ]
  },
  {
   "cell_type": "code",
   "execution_count": 137,
   "metadata": {
    "collapsed": false
   },
   "outputs": [
    {
     "name": "stdout",
     "output_type": "stream",
     "text": [
      "/tmp/tmp3v267u34\n"
     ]
    }
   ],
   "source": [
    "print (dirpath)"
   ]
  },
  {
   "cell_type": "code",
   "execution_count": 149,
   "metadata": {
    "collapsed": true
   },
   "outputs": [],
   "source": [
    "import requests, zipfile, io\n",
    "\n",
    "#zip_file_url = 'https://api.github.com/repos/wadqc/WAD_Python/zipball/v1.1.0'\n",
    "zip_file_url = 'https://api.github.com/repos/dickrsch/testmoduleA/zipball/v1.0'\n",
    "r = requests.get(zip_file_url)\n",
    "z = zipfile.ZipFile(io.BytesIO(r.content))\n",
    "z.extractall(dirpath)"
   ]
  },
  {
   "cell_type": "code",
   "execution_count": 150,
   "metadata": {
    "collapsed": false
   },
   "outputs": [
    {
     "data": {
      "text/plain": [
       "['dickrsch-testmoduleA-b06191d', 'wadqc-WAD_Python-a91119b']"
      ]
     },
     "execution_count": 150,
     "metadata": {},
     "output_type": "execute_result"
    }
   ],
   "source": [
    "import os\n",
    "os.listdir(dirpath)"
   ]
  },
  {
   "cell_type": "code",
   "execution_count": 249,
   "metadata": {
    "collapsed": false
   },
   "outputs": [],
   "source": [
    "import psycopg2"
   ]
  },
  {
   "cell_type": "code",
   "execution_count": 264,
   "metadata": {
    "collapsed": false
   },
   "outputs": [],
   "source": [
    "conn = psycopg2.connect(host=\"localhost\", dbname=\"wadqc_db\",user=\"wadqc\",password=\"waddemo\")"
   ]
  },
  {
   "cell_type": "code",
   "execution_count": 265,
   "metadata": {
    "collapsed": true
   },
   "outputs": [],
   "source": [
    "curr = conn.cursor()"
   ]
  },
  {
   "cell_type": "code",
   "execution_count": 266,
   "metadata": {
    "collapsed": true
   },
   "outputs": [],
   "source": [
    "sql = 'SELECT * FROM dbmodules'"
   ]
  },
  {
   "cell_type": "code",
   "execution_count": 267,
   "metadata": {
    "collapsed": true
   },
   "outputs": [],
   "source": [
    "curr.execute(sql)"
   ]
  },
  {
   "cell_type": "code",
   "execution_count": 268,
   "metadata": {
    "collapsed": false
   },
   "outputs": [],
   "source": [
    "installed_modules = curr.fetchall()"
   ]
  },
  {
   "cell_type": "code",
   "execution_count": 276,
   "metadata": {
    "collapsed": false,
    "scrolled": false
   },
   "outputs": [],
   "source": [
    "installed_factory_modules = [elem for elem in installed_modules if elem[6] is not None and elem[7] is not None]\n"
   ]
  },
  {
   "cell_type": "code",
   "execution_count": 277,
   "metadata": {
    "collapsed": false
   },
   "outputs": [
    {
     "data": {
      "text/plain": [
       "[]"
      ]
     },
     "execution_count": 277,
     "metadata": {},
     "output_type": "execute_result"
    }
   ],
   "source": [
    "installed_factory_modules"
   ]
  },
  {
   "cell_type": "code",
   "execution_count": 160,
   "metadata": {
    "collapsed": true
   },
   "outputs": [],
   "source": [
    "def check_updates():\n",
    "    #This function checks the github repo and reports if new versions are available\n",
    "    list_not_installed = []\n",
    "    list_update_available = []\n",
    "    \n",
    "    \n",
    "    return"
   ]
  },
  {
   "cell_type": "code",
   "execution_count": 161,
   "metadata": {
    "collapsed": true
   },
   "outputs": [],
   "source": [
    "def update_modules(list_of_module_urls):\n",
    "    #This function installs selected modules to be updated\n",
    "\n",
    "    #In database store repo_url, version number, release_date\n",
    "\n",
    "    \n",
    "    return"
   ]
  },
  {
   "cell_type": "code",
   "execution_count": 169,
   "metadata": {
    "collapsed": false
   },
   "outputs": [
    {
     "data": {
      "text/plain": [
       "True"
      ]
     },
     "execution_count": 169,
     "metadata": {},
     "output_type": "execute_result"
    }
   ],
   "source": [
    "'3.90.9' > '2.909'"
   ]
  },
  {
   "cell_type": "code",
   "execution_count": null,
   "metadata": {
    "collapsed": true
   },
   "outputs": [],
   "source": []
  }
 ],
 "metadata": {
  "kernelspec": {
   "display_name": "Python 3",
   "language": "python",
   "name": "python3"
  },
  "language_info": {
   "codemirror_mode": {
    "name": "ipython",
    "version": 3
   },
   "file_extension": ".py",
   "mimetype": "text/x-python",
   "name": "python",
   "nbconvert_exporter": "python",
   "pygments_lexer": "ipython3",
   "version": "3.4.3"
  }
 },
 "nbformat": 4,
 "nbformat_minor": 0
}
